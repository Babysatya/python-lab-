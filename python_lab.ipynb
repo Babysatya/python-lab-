{
  "nbformat": 4,
  "nbformat_minor": 0,
  "metadata": {
    "colab": {
      "name": "python lab.ipynb",
      "provenance": [],
      "collapsed_sections": [],
      "authorship_tag": "ABX9TyOySH4cKTj9A0KHFyWnQY/z",
      "include_colab_link": true
    },
    "kernelspec": {
      "name": "python3",
      "display_name": "Python 3"
    },
    "language_info": {
      "name": "python"
    }
  },
  "cells": [
    {
      "cell_type": "markdown",
      "metadata": {
        "id": "view-in-github",
        "colab_type": "text"
      },
      "source": [
        "<a href=\"https://colab.research.google.com/github/Babysatya/python-lab-/blob/main/python_lab.ipynb\" target=\"_parent\"><img src=\"https://colab.research.google.com/assets/colab-badge.svg\" alt=\"Open In Colab\"/></a>"
      ]
    },
    {
      "cell_type": "markdown",
      "metadata": {
        "id": "Ga2ZPYg8u8yc"
      },
      "source": [
        "\n",
        "\n",
        "     NAME:BABYSATYA PERAVALI\n",
        "     REG.NO: 19A21A05B1\n",
        "     SEC:CSE-B\n",
        "     "
      ]
    },
    {
      "cell_type": "markdown",
      "metadata": {
        "id": "81PDBRJmzp3I"
      },
      "source": [
        "# New section"
      ]
    },
    {
      "cell_type": "markdown",
      "metadata": {
        "id": "E8pq2QvIvSqi"
      },
      "source": [
        " EXERCISE-1-BASICS"
      ]
    },
    {
      "cell_type": "markdown",
      "metadata": {
        "id": "1ks1Wh9-w7Z9"
      },
      "source": [
        " \n",
        "\n",
        " \n",
        "\n",
        "  A)WRITE PROGRAM IN INTERACTIVE,INTERPRETER,PYTHON SCRIPT MODE.\n",
        "  \n",
        "  B)WRITE A PROGRAM TO PURPOSEFULLY RAISE INDENTATION ERROR AND CORRECT IT.\n",
        "\n",
        "\n",
        "\n"
      ]
    },
    {
      "cell_type": "code",
      "metadata": {
        "colab": {
          "base_uri": "https://localhost:8080/"
        },
        "id": "2aOYc5WWxeMQ",
        "outputId": "93f1f473-b9ee-4017-9fab-13ede1fb5910"
      },
      "source": [
        "a=60\n",
        "b=40\n",
        "a,b=b,a\n",
        "print(a,b)"
      ],
      "execution_count": null,
      "outputs": [
        {
          "output_type": "stream",
          "text": [
            "40 60\n"
          ],
          "name": "stdout"
        }
      ]
    },
    {
      "cell_type": "code",
      "metadata": {
        "id": "u-ai-Y_1xSHY",
        "colab": {
          "base_uri": "https://localhost:8080/"
        },
        "outputId": "b493d47f-54a4-4e05-e5fd-c15e009a746e"
      },
      "source": [
        "a=input(\"enter a vlaue:\")\n",
        "b=input(\"enter b value:\")\n",
        "c=a+b;\n",
        "print(\"sum is \",c,sep=\"\\t\")\n",
        "c=int(a)+int(b)\n",
        "print(\"sum of {} and {} is : {}\".format(a,b,c))\n",
        "print(\"sum of %s and %s is:%d\"%(a,b,c))\n",
        "x=10\n",
        "y=123\n",
        "z=x+y;\n",
        "print(\"sum is\",z,sep='\\t' )"
      ],
      "execution_count": null,
      "outputs": [
        {
          "output_type": "stream",
          "text": [
            "enter a vlaue:10\n",
            "enter b value:20\n",
            "sum is \t1020\n",
            "sum of 10 and 20 is : 30\n",
            "sum of 10 and 20 is:30\n",
            "sum is\t250\n"
          ],
          "name": "stdout"
        }
      ]
    },
    {
      "cell_type": "code",
      "metadata": {
        "colab": {
          "base_uri": "https://localhost:8080/"
        },
        "id": "lEYDmCI9uGS0",
        "outputId": "8731918d-6c5b-44ea-e42b-8811066fae92"
      },
      "source": [
        "print(\"welcome to python\")\n",
        "a=40\n",
        "b=50\n",
        "print(\"the value of a:\",a)\n",
        "print(\"the value of b :\",b)\n",
        "if(a>b):\n",
        "       print(\"a is big\");\n",
        "       print(\"ifbblock ends\")\n",
        "else:\n",
        "            print(\"b is big\")\n",
        "            print(\"elseblock ends\")"
      ],
      "execution_count": null,
      "outputs": [
        {
          "output_type": "stream",
          "text": [
            "welcome to python\n",
            "the value of a: 40\n",
            "the value of b : 50\n",
            "b is big\n",
            "elseblock ends\n"
          ],
          "name": "stdout"
        }
      ]
    },
    {
      "cell_type": "markdown",
      "metadata": {
        "id": "xnVAgOo4ur5I"
      },
      "source": [
        "EXERCISE-2\n",
        "\n",
        "A.COMPUTE DISTANCE BETWEEN TWO POINTS\n",
        "\n",
        "B.TAKE TWO NUMBERS ON COMMAND LINE ARGUMENTS AND PRINT THE SUM."
      ]
    },
    {
      "cell_type": "code",
      "metadata": {
        "colab": {
          "base_uri": "https://localhost:8080/"
        },
        "id": "ZnrKXSgju4Vz",
        "outputId": "68fb406d-a1fc-4f91-8a11-b3ca5d2516f3"
      },
      "source": [
        "x1=5\n",
        "x2=40\n",
        "y1=6\n",
        "y2=10\n",
        "z=(pow((x2-x1),2)+pow((y2-y1),2))**0.5\n",
        "print(z)"
      ],
      "execution_count": null,
      "outputs": [
        {
          "output_type": "stream",
          "text": [
            "35.22782990761707\n"
          ],
          "name": "stdout"
        }
      ]
    },
    {
      "cell_type": "code",
      "metadata": {
        "colab": {
          "base_uri": "https://localhost:8080/"
        },
        "id": "cKpZm9OOwABs",
        "outputId": "c2e264ab-c65b-4816-8371-3f7ba78da08d"
      },
      "source": [
        "import math\n",
        "x1=int(input(\"enter  x1 value:\"))\n",
        "x2=int(input(\"enter  x2 value:\"))\n",
        "y1=int(input(\"enter  y1 value:\"))\n",
        "y2=int(input(\"enter  y2 value:\"))\n",
        "z=math.sqrt((x2-x1)*2+(y2-y1)*2)\n",
        "print(\"the distance between two points is :\",z)\n",
        "print(\"the distance between two points is :\",z,sep='\\t')\n",
        "print(\"the distance between ({}, {})and ({},{}) is  :{}\".format(x1,y1,x2,y2,z))\n",
        "\n",
        "print(\"the distance between (%d, %d)and (%d,%d) is  :%f\"%(x1,y1,x2,y2,z))\n"
      ],
      "execution_count": null,
      "outputs": [
        {
          "output_type": "stream",
          "text": [
            "enter  x1 value:16\n",
            "enter  x2 value:30\n",
            "enter  y1 value:46\n",
            "enter  y2 value:35\n",
            "the distance between two points is : 2.449489742783178\n",
            "the distance between two points is :\t2.449489742783178\n",
            "the distance between (16, 46)and (30,35) is  :2.449489742783178\n",
            "the distance between (16, 46)and (30,35) is  :2.449490\n"
          ],
          "name": "stdout"
        }
      ]
    },
    {
      "cell_type": "code",
      "metadata": {
        "id": "4hqzHQOHyC5P"
      },
      "source": [
        "import sys\n",
        "a=sys.argv[1]\n",
        "b=sys.argv[2]\n",
        "sum=int(a)+int(b)\n",
        "print(\"summ of two number is:\",sum)"
      ],
      "execution_count": null,
      "outputs": []
    },
    {
      "cell_type": "markdown",
      "metadata": {
        "id": "kr6oSUXoyPIY"
      },
      "source": [
        "EXCERSCISE-3\n",
        "\n",
        "A) Write a Program for checking whether the given number is an even number or not.\n",
        "\n",
        "b) Using a for loop, write a program that prints out the decimal equivalents of 1/2, 1/3, 1/4, . . .1/10\n",
        "\n",
        "c) Write a program using a for loop that loops over a sequence. What is sequence?\n",
        "\n",
        "d) Write a program using a while loop that asks the user for a number, and prints a countdownfrom that number to zero"
      ]
    },
    {
      "cell_type": "code",
      "metadata": {
        "colab": {
          "base_uri": "https://localhost:8080/"
        },
        "id": "EQ89H7jJyV_0",
        "outputId": "8a9c2ada-4e79-4baa-c3f6-c412e65729fc"
      },
      "source": [
        "n=int(input(\"enter a number:\"))\n",
        "if (n%2)==0:\n",
        "        print(\"given number is even\")\n",
        "else:\n",
        "      print(\"given number is odd\")"
      ],
      "execution_count": null,
      "outputs": [
        {
          "output_type": "stream",
          "text": [
            "enter a number:5\n",
            "given number is odd\n"
          ],
          "name": "stdout"
        }
      ]
    },
    {
      "cell_type": "code",
      "metadata": {
        "colab": {
          "base_uri": "https://localhost:8080/"
        },
        "id": "6LbXlODEyhiv",
        "outputId": "e23acdaa-f8db-4f27-cced-4fbe51c36e79"
      },
      "source": [
        "n=int(input(\"enter a number:\"))\n",
        "for i in range(2,n):\n",
        "    de=1/i;\n",
        "    print(\"1/\",i,\"=\",de)"
      ],
      "execution_count": null,
      "outputs": [
        {
          "output_type": "stream",
          "text": [
            "enter a number:5\n",
            "1/ 2 = 0.5\n",
            "1/ 3 = 0.3333333333333333\n",
            "1/ 4 = 0.25\n"
          ],
          "name": "stdout"
        }
      ]
    },
    {
      "cell_type": "code",
      "metadata": {
        "colab": {
          "base_uri": "https://localhost:8080/"
        },
        "id": "YRtCWNWPy6cq",
        "outputId": "3992d262-aeb0-440b-aff7-767fa47fdabe"
      },
      "source": [
        "#program using a for a loop that loops over a sequence\n",
        "print(\"loop sequence\")\n",
        "num=[45,25,2,28,3,25]\n",
        "for i in num:\n",
        "    print(i)\n",
        "\n",
        "#string sequence\n",
        "print(\"string sequence\")\n",
        "days=[\"sun\",\"mon\",\"tue\",\"wed\",\"thur\",\"fri\",\"st\"]\n",
        "for d in days:\n",
        "    print(d)\n",
        "    \n",
        "#bothh sequence\n",
        "print(\"sequence\")\n",
        "arr=[123,\"abc\",5.6,'h',-33,\"xy\",True]\n",
        "for x in arr:\n",
        "      print(x)"
      ],
      "execution_count": null,
      "outputs": [
        {
          "output_type": "stream",
          "text": [
            "loop sequence\n",
            "45\n",
            "25\n",
            "2\n",
            "28\n",
            "3\n",
            "25\n",
            "string sequence\n",
            "sun\n",
            "mon\n",
            "tue\n",
            "wed\n",
            "thur\n",
            "fri\n",
            "st\n",
            "sequence\n",
            "123\n",
            "abc\n",
            "5.6\n",
            "h\n",
            "-33\n",
            "xy\n",
            "True\n"
          ],
          "name": "stdout"
        }
      ]
    },
    {
      "cell_type": "code",
      "metadata": {
        "colab": {
          "base_uri": "https://localhost:8080/"
        },
        "id": "vgZ8kl7PzI72",
        "outputId": "b2acd95f-b211-4be3-81ee-b3bb60bacdec"
      },
      "source": [
        "#countdown seq\n",
        "n=int(input(\"enter the numbr:\"))\n",
        "while n>0:\n",
        "      print(n)\n",
        "      n=n-1"
      ],
      "execution_count": null,
      "outputs": [
        {
          "output_type": "stream",
          "text": [
            "enter the numbr:5\n",
            "5\n",
            "4\n",
            "3\n",
            "2\n",
            "1\n"
          ],
          "name": "stdout"
        }
      ]
    },
    {
      "cell_type": "markdown",
      "metadata": {
        "id": "S9K8iSSczcYS"
      },
      "source": [
        "EXCERCISE-4\n",
        "\n",
        "a) Find the sum of all the primes below two million. Each new term in the Fibonacci sequence is generated by adding the previous two terms. Bystarting with 1 and 2, the first 10 terms will be: 1, 2, 3, 5, 8, 13, 21, 34, 55, 89, ...\n",
        "\n",
        "b) By considering the terms in the Fibonacci sequence whose values do not exceed four million,find the sum of the even-valued terms."
      ]
    },
    {
      "cell_type": "code",
      "metadata": {
        "colab": {
          "base_uri": "https://localhost:8080/"
        },
        "id": "ej9G4H_9zd2N",
        "outputId": "b85f8065-b9c8-46e2-8ac3-9993cba9c091"
      },
      "source": [
        "n=int(input(\"enter a num:\"))\n",
        "a=0\n",
        "b=1\n",
        "c=a+b\n",
        "st=\"\"\n",
        "sum=0\n",
        "con=0\n",
        "while con<=n:\n",
        "    st+=\"\"+str(c)\n",
        "    sum+=c        \n",
        "    a=b\n",
        "    b=c \n",
        "    c=a+b\n",
        "    con+=1\n",
        "print(st)\n",
        "print(\"sum of fibonacii series:\",sum)"
      ],
      "execution_count": null,
      "outputs": [
        {
          "output_type": "stream",
          "text": [
            "enter a num:4\n",
            "12358\n",
            "sum of fibonacii series: 19\n"
          ],
          "name": "stdout"
        }
      ]
    },
    {
      "cell_type": "code",
      "metadata": {
        "colab": {
          "base_uri": "https://localhost:8080/"
        },
        "id": "k3L9peto3Lc0",
        "outputId": "63d52067-c6c0-4fab-83ea-5511c131e598"
      },
      "source": [
        "n=int(input(\"enter a number:\"))\n",
        "c=0\n",
        "\n",
        "\n",
        "st=\"\"\n",
        "sum=0\n",
        "\n",
        "for i in range(2,n):\n",
        " state=True\n",
        "for j in range(2,i):\n",
        " if(i%j==0):\n",
        "        state=False\n",
        "        break;\n",
        "if state==True:\n",
        "            st+=\"\"+str(i)\n",
        "            c+=1\n",
        "            sum+=i\n",
        "\n",
        "print(\"prime numbers\")\n",
        "print(st)\n",
        "\n",
        "print(\"total count of the prime numbers:\",c)\n",
        "print(\"sum of all prime nums:\",sum)"
      ],
      "execution_count": null,
      "outputs": [
        {
          "output_type": "stream",
          "text": [
            "enter a number:4\n",
            "prime numbers\n",
            "3\n",
            "total count of the prime numbers: 1\n",
            "sum of all prime nums: 3\n"
          ],
          "name": "stdout"
        }
      ]
    },
    {
      "cell_type": "markdown",
      "metadata": {
        "id": "JKI3jPqA4RhP"
      },
      "source": [
        "EXCERCISE-5\n",
        "\n",
        "DS\n",
        "\n",
        "a) Write a program to count the numbers of characters in the string and store them in adictionary data structure\n",
        "\n",
        "b) Write a program to use split and join methods in the string and trace a birthday with adictionary data structure."
      ]
    },
    {
      "cell_type": "code",
      "metadata": {
        "colab": {
          "base_uri": "https://localhost:8080/"
        },
        "id": "OHUR0c1d4SrZ",
        "outputId": "feaae2d2-47ab-4ebe-ba00-94b0e24b8309"
      },
      "source": [
        "name=input(\"enter a name:\")\n",
        "dic={}\n",
        "for ch in name:\n",
        "    keys=dic.keys()\n",
        "\n",
        "    if(ch in keys):\n",
        "        dic[ch]=dic[ch]+1\n",
        "    else:\n",
        "        dic[ch]=1\n",
        "\n",
        "print(\"dictinarry is:\",dic)"
      ],
      "execution_count": null,
      "outputs": [
        {
          "output_type": "stream",
          "text": [
            "enter a name:BABYSATYA\n",
            "dictinarry is: {'B': 2, 'A': 3, 'Y': 2, 'S': 1, 'T': 1}\n"
          ],
          "name": "stdout"
        }
      ]
    },
    {
      "cell_type": "code",
      "metadata": {
        "colab": {
          "base_uri": "https://localhost:8080/"
        },
        "id": "GKAAc1D44lga",
        "outputId": "51acf36b-5931-44c1-9cd9-b0a392293d8e"
      },
      "source": [
        "dob={\"BABYSATYA\":\"12-12-2002\",\"RIYA\":\"26-12-2001\"}\n",
        "name=input(\"enter which person dob u want:\")\n",
        "l=name.split()\n",
        "birth=\"\"\n",
        "for i in l:\n",
        "    if i in dob.keys():\n",
        "        pers=i\n",
        "\n",
        "print(\"\".join([pers,\"birthdayis:\",dob[pers]]))"
      ],
      "execution_count": null,
      "outputs": [
        {
          "output_type": "stream",
          "text": [
            "enter which person dob u want:BABYSATYA\n",
            "BABYSATYAbirthdayis:12-12-2002\n"
          ],
          "name": "stdout"
        }
      ]
    },
    {
      "cell_type": "markdown",
      "metadata": {
        "id": "4SDyMRoj64ax"
      },
      "source": [
        "EXERCISE-6\n",
        "\n",
        "DS - Continued\n",
        "\n",
        "a) Write a program combinelists that combines these lists into a dictionary.\n",
        "\n",
        "b) Write a program to count frequency of characters in a given file. Can you use character frequency to tell whether the given file is a Python program file, C program file or a text file?"
      ]
    },
    {
      "cell_type": "code",
      "metadata": {
        "colab": {
          "base_uri": "https://localhost:8080/"
        },
        "id": "qtLDLclA65gq",
        "outputId": "ba84bbe0-3a31-48fa-ea39-9c2da2eb37ae"
      },
      "source": [
        "sub=[\"daa\",\"os\",\"dbms\",\"p&s\",\"ppl\",\"se\"]\n",
        "marks=[85,96,75,65,83,56]\n",
        "print(sub)\n",
        "print(marks)\n",
        "dic=dict(zip(sub,marks))\n",
        "print(dic)"
      ],
      "execution_count": null,
      "outputs": [
        {
          "output_type": "stream",
          "text": [
            "['daa', 'os', 'dbms', 'p&s', 'ppl', 'se']\n",
            "[85, 96, 75, 65, 83, 56]\n",
            "{'daa': 85, 'os': 96, 'dbms': 75, 'p&s': 65, 'ppl': 83, 'se': 56}\n"
          ],
          "name": "stdout"
        }
      ]
    },
    {
      "cell_type": "code",
      "metadata": {
        "id": "US0syoCbBKoj"
      },
      "source": [
        "filetypes=['.py','.c','.txt']\n",
        "fn=input(\"enter a fikle name:\")\n",
        "f=open(fn,\"r\")\n",
        "count=dict()\n",
        "for  ft in filetypes:\n",
        "     if(ft in  fn):\n",
        "           if(ft==\".py\"):\n",
        "             print(\"python file\")\n",
        "           elif(ft==\".c\"):\n",
        "             print(\"cfile\")\n",
        "           elif(ft==\".txt\"):\n",
        "             print(\"text file\")\n",
        "\n",
        "\n",
        "for line in f:\n",
        "     for ch in line:\n",
        "          if ch in count:\n",
        "               count[ch]=count[ch]+1\n",
        "\n",
        "          else:\n",
        "              count[ch]=1\n",
        "\n",
        "\n",
        "print(count)\n",
        "f.close()"
      ],
      "execution_count": null,
      "outputs": []
    },
    {
      "cell_type": "markdown",
      "metadata": {
        "id": "J5S_tIV_BRsF"
      },
      "source": [
        "EXCERCISE-7\n",
        "\n",
        "7 files\n",
        "\n",
        "a) Write a program to print each line of a file in reverse order.\n",
        "\n",
        "b) Write a program to compute the number of characters, words and lines in a file."
      ]
    },
    {
      "cell_type": "code",
      "metadata": {
        "id": "-4XNMiiEBuO9"
      },
      "source": [
        "obj=open(\"sam.txt\",\"r\")\n",
        "if obj:\n",
        "    st=obj.read()\n",
        "    print(\"file content is:\")\n",
        "obj.close()\n",
        "print()\n",
        "lines=st.split('\\n')\n",
        "for ln in lines:\n",
        "    i=len(ln)-1\n",
        "    while(i>=0):\n",
        "      print(ln[i],end='')\n",
        "      i=i-1\n",
        "    print()"
      ],
      "execution_count": null,
      "outputs": []
    },
    {
      "cell_type": "code",
      "metadata": {
        "id": "luzQM0ynB6D9"
      },
      "source": [
        "obj=open(\"sam.txt\",\"r\")\n",
        "if obj:\n",
        "    st=obj.read()\n",
        "    print(\"file content is:\")\n",
        "obj.close()\n",
        "print()\n",
        "nc=nw=nl=0\n",
        "for ch in st:\n",
        "    if(ch):\n",
        "        nc=nc+1\n",
        "    if(ch==''):\n",
        "        nw=nw+1\n",
        "    if(ch=='\\n'):\n",
        "        nl=nl+1\n",
        "\n",
        "print(\"number of characters in a file:\",nc)\n",
        "print(\"number of words in file is:\",nw)\n",
        "print(\"number of lines ins file:\",nl)"
      ],
      "execution_count": null,
      "outputs": []
    },
    {
      "cell_type": "markdown",
      "metadata": {
        "id": "vGA4wRUnCAyv"
      },
      "source": [
        "EXCERCISE-8\n",
        "\n",
        "8 Functions'\n",
        "\n",
        "a) Write a function ball collide that takes two balls as parameters and computes if they arecolliding. Your function should return a Boolean representing whether or not the balls arecolliding. Hint: Represent a ball on a plane as a tuple of (x, y, r), r being the radius If (distance between two balls centers) <= (sum of their radii) then (they are colliding)\n",
        "\n",
        "b) Find mean, median, mode for the given set of numbers in a list."
      ]
    },
    {
      "cell_type": "code",
      "metadata": {
        "colab": {
          "base_uri": "https://localhost:8080/"
        },
        "id": "oJnzMEvCCEwc",
        "outputId": "9fab1cb9-ff3d-41b3-8d1c-0bc0b6b075d0"
      },
      "source": [
        "import math\n",
        "def ballcollide(b1tup,b2tup):\n",
        "    x1=b1tup[0]\n",
        "    y1=b1tup[1]\n",
        "    x2=b2tup[0]\n",
        "    y2=b2tup[1]\n",
        "    r1=b1tup[2]\n",
        "    r2=b2tup[2]\n",
        "\n",
        "\n",
        "    d=math.sqrt((x2-x1)*2+(y2-y1)*2)\n",
        "    if(d<=r1+r2):\n",
        "      return True\n",
        "    else:\n",
        "        return False\n",
        "\n",
        "\n",
        "ball1=(1,2,3)\n",
        "ball2=(3,2,1)\n",
        "c=ballcollide(ball1,ball2)\n",
        "if(c):\n",
        "    print(\"balls are collided\")\n",
        "else:\n",
        "    print(\"ball are not collided\")"
      ],
      "execution_count": null,
      "outputs": [
        {
          "output_type": "stream",
          "text": [
            "balls are collided\n"
          ],
          "name": "stdout"
        }
      ]
    },
    {
      "cell_type": "code",
      "metadata": {
        "id": "lXUH_ixACUEj"
      },
      "source": [
        "def mean(numlist):\n",
        "    return sum(numlist)/len(numlist)\n",
        "def median(numlist):\n",
        "    numlist.sort()\n",
        "    print(numlist)\n",
        "    n=len(numlist)\n",
        "    print(\"total\",n)\n",
        "    mid=n//2\n",
        "    print(\"mid:\",mid)\n",
        "    if(n%2==0):\n",
        "        return numlist[mid]\n",
        "    else:\n",
        "        return (numlist[mid-1]+numlist[mid])/2\n",
        "def mode(numlist):\n",
        "    numlist.sort()\n",
        "    temp=[]\n",
        "    i=0\n",
        "    while i<len(numlist):\n",
        "        temp.append(numlist.count(numlist[i]))\n",
        "        i+=1\n",
        "    dic=dict(zip(numlist,temp))\n",
        "    modes={k for k, v in dic.items() if(v==max(temp))}\n",
        "    return modes\n",
        "list=[1,1,2,2,3,4,5,3,3]\n",
        "print(\"mean of guive list:\",mean(list))\n",
        "print(\"median of guive list:\",median(list))\n",
        "\n",
        "print(\"mode of guive list:\",mode(list))"
      ],
      "execution_count": null,
      "outputs": []
    },
    {
      "cell_type": "markdown",
      "metadata": {
        "id": "aTf5hCJdCYKo"
      },
      "source": [
        "Exercise - 9\n",
        "\n",
        "Functions - Continued\n",
        "\n",
        "a) Write a function nearly equal to test whether two strings are nearly equal. Two strings a and bare nearly equal when a can be generated by a single mutation on b.\n",
        "\n",
        "b) Write a function dup to find all duplicates in the list.\n",
        "\n",
        "c) Write a function unique to find all the unique elements of a list."
      ]
    },
    {
      "cell_type": "code",
      "metadata": {
        "colab": {
          "base_uri": "https://localhost:8080/"
        },
        "id": "yWRLWMiECcFl",
        "outputId": "cbeb3ebd-12b2-45ad-84ff-5139bc7d8d0b"
      },
      "source": [
        "def nearlyeq(str1,str2):\n",
        "    count=0\n",
        "    i=j=0\n",
        "    ss=0\n",
        "    while(i<len(str1)and j<len(str2)):\n",
        "        if(str1[i]!=str2[j]):\n",
        "            count+=1\n",
        "        if(len(str1)>len(str2)):\n",
        "            i+=1\n",
        "\n",
        "        elif(len(str1)==len(str2)):\n",
        "            pass\n",
        "        else:\n",
        "            i-=1     \n",
        "        if(count>1):\n",
        "             ss-=1\n",
        "             \n",
        "        i+=1\n",
        "        j+=1\n",
        "        if(count<2):\n",
        "             ss+=1\n",
        "\n",
        "    return ss\n",
        "s1=input(\"enter a string 1:\")\n",
        "s2=input(\"enter the string2:\")\n",
        "t=nearlyeq(s1,s2)\n",
        "if(t>1):\n",
        "    print(\"neraly equal0\")\n",
        "else:\n",
        "    print(\"not nearly equal\")"
      ],
      "execution_count": null,
      "outputs": [
        {
          "output_type": "stream",
          "text": [
            "enter a string 1:1\n",
            "enter the string2:10000\n",
            "not nearly equal\n"
          ],
          "name": "stdout"
        }
      ]
    },
    {
      "cell_type": "code",
      "metadata": {
        "colab": {
          "base_uri": "https://localhost:8080/"
        },
        "id": "9J3PJts3C67Y",
        "outputId": "da02a56a-db71-4284-dd32-9b0da3c6921d"
      },
      "source": [
        "def dup(list):\n",
        "  list1=[]\n",
        "  for i in list:\n",
        "    count=list.count(i)\n",
        "    if(count>1 and (i not in list1)):\n",
        "        list1.append(i)\n",
        "        \n",
        "  print(\"the dups int he list are:\",list1)        \n",
        "list2=[1,2,1,2]\n",
        "\n",
        "dup(list2)"
      ],
      "execution_count": null,
      "outputs": [
        {
          "output_type": "stream",
          "text": [
            "the dups int he list are: [1, 2]\n"
          ],
          "name": "stdout"
        }
      ]
    },
    {
      "cell_type": "code",
      "metadata": {
        "colab": {
          "base_uri": "https://localhost:8080/"
        },
        "id": "nhYLvVGlDAhl",
        "outputId": "0ba90c1e-5cb9-4177-c966-c48489282f87"
      },
      "source": [
        "def unique(list1):\n",
        "  list2={}\n",
        "\n",
        "  for i in list1:\n",
        "    c=list1.count(i)\n",
        "    if c==1:\n",
        "      list2[i]=c\n",
        "  print(\"the unique elements in the list are:\",list2)\n",
        "\n",
        "list=[1,2,3,45,45,6,88,88,9]\n",
        "unique(list)"
      ],
      "execution_count": null,
      "outputs": [
        {
          "output_type": "stream",
          "text": [
            "the unique elements in the list are: {1: 1, 2: 1, 3: 1, 6: 1, 9: 1}\n"
          ],
          "name": "stdout"
        }
      ]
    },
    {
      "cell_type": "markdown",
      "metadata": {
        "id": "wJeOWD1QDMB1"
      },
      "source": [
        "Exercise - 10\n",
        "\n",
        "Functions - Problem Solving\n",
        "\n",
        "a) Write a function cumulative product to compute cumulative product of a list of numbers.\n",
        "\n",
        "b) Write a function reverse to reverse a list. Without using the reverse function.\n",
        "\n",
        "c) Write function to compute gcd, lcm of two numbers. Each function shouldn’t exceed one line"
      ]
    },
    {
      "cell_type": "code",
      "metadata": {
        "id": "PPQniDdiDaDO"
      },
      "source": [
        "def cumulative_product(list1,n):\n",
        "    list2=[]\n",
        "    i=0\n",
        "    list2.append(list1[i])\n",
        "    for i in range(1,n):\n",
        "        v=list1[i]*list2[i-1]\n",
        "        list2.append(v)\n",
        "        \n",
        "    print(list2)\n",
        "list3=[]\n",
        "n=int(input(\"enter size :\"))\n",
        "print(\"enter the data:\")\n",
        "for i in range(0,n):\n",
        "    x=int(input())\n",
        "    list3.append(x)\n",
        "cumulative_product(list3,n)"
      ],
      "execution_count": null,
      "outputs": []
    },
    {
      "cell_type": "code",
      "metadata": {
        "colab": {
          "base_uri": "https://localhost:8080/"
        },
        "id": "UDCCA9OLDbWQ",
        "outputId": "d9956ac1-9924-44b8-c1f3-9b9c407af425"
      },
      "source": [
        "def reverse_list(numlist):\n",
        "    temp=list1[::-1]\n",
        "    numlist=temp\n",
        "    return temp\n",
        "list1=[1,2,3,4]\n",
        "print(\"giiven list is :\",list1)\n",
        "print(\"after reverse function:\",reverse_list(list1))\n",
        "print(\"after list is:\",list1)"
      ],
      "execution_count": null,
      "outputs": [
        {
          "output_type": "stream",
          "text": [
            "giiven list is : [1, 2, 3, 4]\n",
            "after reverse function: [4, 3, 2, 1]\n",
            "after list is: [1, 2, 3, 4]\n"
          ],
          "name": "stdout"
        }
      ]
    },
    {
      "cell_type": "code",
      "metadata": {
        "colab": {
          "base_uri": "https://localhost:8080/"
        },
        "id": "MnkvRY1hDgw1",
        "outputId": "120f02f8-f45f-48eb-ea06-b1aacbba19b9"
      },
      "source": [
        "gcd=lambda a,b: a if b==0 else gcd(a,a%b)\n",
        "lcm=lambda a,b: (a*b)/gcd(a,b)\n",
        "\n",
        "x=4\n",
        "y=24\n",
        "print(\"gcd=\",gcd(x,y))\n",
        "print(\"lcm=\",lcm(x,y))"
      ],
      "execution_count": null,
      "outputs": [
        {
          "output_type": "stream",
          "text": [
            "gcd= 4\n",
            "lcm= 24.0\n"
          ],
          "name": "stdout"
        }
      ]
    },
    {
      "cell_type": "markdown",
      "metadata": {
        "id": "xbFRfM0SzVgW"
      },
      "source": [
        "Exercise 11: Multi-D Lists\n",
        "\n",
        "a)Write a program that defines a matrix and prints.\n",
        "\n",
        "b) write a program to perform addition of two square matrices\n",
        "\n",
        "c) write a program to perform multiplication of two square matrices"
      ]
    },
    {
      "cell_type": "code",
      "metadata": {
        "colab": {
          "base_uri": "https://localhost:8080/"
        },
        "id": "Ol11thCDzW5o",
        "outputId": "55f3d83f-0a8f-4583-ea7a-63ff73df1672"
      },
      "source": [
        "matA=[[]]\n",
        "rows=int(input(\"Enter row size of matrix: \"))\n",
        "cols=int(input(\"Enter column size of matrix: \"))\n",
        "matA=[[int(input(\"Enter[%d,%d] value: \"%(i,j)))for j in range(cols)]for i in range(rows)]\n",
        "print(\"matrix is: \")\n",
        "for i in range(rows):\n",
        "  for j in range(cols):\n",
        "    print(matA[i][j],end='\\t')\n",
        "  print()"
      ],
      "execution_count": null,
      "outputs": [
        {
          "output_type": "stream",
          "text": [
            "Enter row size of matrix: 2\n",
            "Enter column size of matrix: 2\n",
            "Enter[0,0] value: 1\n",
            "Enter[0,1] value: 2\n",
            "Enter[1,0] value: 3\n",
            "Enter[1,1] value: 4\n",
            "matrix is: \n",
            "1\t2\t\n",
            "3\t4\t\n"
          ],
          "name": "stdout"
        }
      ]
    },
    {
      "cell_type": "code",
      "metadata": {
        "colab": {
          "base_uri": "https://localhost:8080/"
        },
        "id": "lmKVbYfQzvgY",
        "outputId": "edb885f5-5d43-44e1-de39-5518807468f7"
      },
      "source": [
        "def matRead(r,c):\n",
        "  return[[int(input(\"[%d,%d]value:\"%(i,j)))for j in range(c)]for i in range(r)]\n",
        "def matDisp(mat,r,c):\n",
        "  for i in range(r):\n",
        "    for j in range(c):\n",
        "      print(mat[i][j],end='\\t')\n",
        "    print()\n",
        "matA=[[]]\n",
        "matB=[[]]       \n",
        "matSum=[[]]\n",
        "rows=int(input(\"Enter row size of the matrix: \"))\n",
        "cols=int(input(\"Enter column size of the matrix: \"))\n",
        "if rows==cols:\n",
        "  print(\"Enter Matrix-A elements: \")\n",
        "  matA=matRead(rows,cols)\n",
        " \n",
        "  print(\"Enter Matrix-B elements: \")\n",
        "  matB=matRead(rows,cols)\n",
        " \n",
        "  print(\"Matrix-A is: \")\n",
        "  matDisp(matA,rows,cols)\n",
        " \n",
        "  print(\"Matrix-B is: \")\n",
        "  matDisp(matB,rows,cols)\n",
        "  matSum=[[matA[i][j]+matB[i][j]for j in range(cols)]for i in range(rows)]\n",
        "  print(\"sum of matrices is: \")\n",
        "  matDisp(matSum,rows,cols)\n",
        "else:\n",
        "  print(\"Matrices addition is not possible\")"
      ],
      "execution_count": null,
      "outputs": [
        {
          "output_type": "stream",
          "text": [
            "Enter row size of the matrix: 2\n",
            "Enter column size of the matrix: 2\n",
            "Enter Matrix-A elements: \n",
            "[0,0]value:2\n",
            "[0,1]value:4\n",
            "[1,0]value:6\n",
            "[1,1]value:8\n",
            "Enter Matrix-B elements: \n",
            "[0,0]value:1\n",
            "[0,1]value:3\n",
            "[1,0]value:7\n",
            "[1,1]value:9\n",
            "Matrix-A is: \n",
            "2\t4\t\n",
            "6\t8\t\n",
            "Matrix-B is: \n",
            "1\t3\t\n",
            "7\t9\t\n",
            "sum of matrices is: \n",
            "3\t7\t\n",
            "13\t17\t\n"
          ],
          "name": "stdout"
        }
      ]
    },
    {
      "cell_type": "code",
      "metadata": {
        "colab": {
          "base_uri": "https://localhost:8080/"
        },
        "id": "3ymEHmnH0ItS",
        "outputId": "043f91aa-6b88-401c-a441-df6bfdbabe5f"
      },
      "source": [
        "def  matRead(r,c):  \n",
        "  return[[int(input(\"[%d,%d]value: \"%(i,j)))for j in range(c)]for i in range(r)]\n",
        "def matDisp(mat,r,c):\n",
        "  for i in range(r):\n",
        "    for j in range(c):\n",
        "      print(mat[i][j],end='\\t')\n",
        "matA=[[]]\n",
        "matB=[[]]\n",
        "matMul=[[]]\n",
        "rows=int(input(\"Enter row size of the Matrix: \"))\n",
        "cols=int(input(\"Enter column size of the Matrix: \"))\n",
        " \n",
        "if rows==cols:\n",
        "  print(\"Enter Matrix-A: \")\n",
        "  matA=matRead(rows,cols)\n",
        "  print(\" Enter Matrix-B: \")\n",
        "  matB=matRead(rows,cols)\n",
        " \n",
        "  matMul=[[0 for j in range(cols)]for i in range(rows)]\n",
        "  for i in range(rows):\n",
        "    for j in range(cols):\n",
        "      for k in range(cols):\n",
        "        matMul[i][j]+=matA[i][k]*matB[k][j]\n",
        "  print(\"Matrix-A is: \")\n",
        "  matDisp(matA,rows,cols)\n",
        " \n",
        "  print(\"Matrix-B is: \")\n",
        "  matDisp(matB,rows,cols)\n",
        " \n",
        "  print(\"Multiplication of matrices is: \")\n",
        "  matDisp(matMul,rows,cols)\n",
        "else:\n",
        "  print(\"Matrices Multiplication is not possible is\")8"
      ],
      "execution_count": null,
      "outputs": [
        {
          "output_type": "stream",
          "text": [
            "Enter row size of the Matrix: 2\n",
            "Enter column size of the Matrix: 2\n",
            "Enter Matrix-A: \n",
            "[0,0]value: 1\n",
            "[0,1]value: 2\n",
            "[1,0]value: 3\n",
            "[1,1]value: 4\n",
            " Enter Matrix-B: \n",
            "[0,0]value: 5\n",
            "[0,1]value: 6\n",
            "[1,0]value: 7\n",
            "[1,1]value: 8\n",
            "Matrix-A is: \n",
            "1\t2\t3\t4\tMatrix-B is: \n",
            "5\t6\t7\t8\tMultiplication of matrices is: \n",
            "19\t22\t43\t50\t"
          ],
          "name": "stdout"
        }
      ]
    },
    {
      "cell_type": "markdown",
      "metadata": {
        "id": "EH50IdH10lFe"
      },
      "source": [
        "Exercise 12-Modules\n",
        "\n",
        "a) Install package requests,flasks and explore them.using(pip)\n",
        "\n",
        "b) write a script that imports requests and fetch content from the page.Eg(wiki)\n",
        "\n",
        "c) write a simple script that serves a simple HTTPResponse and simple HTML page"
      ]
    },
    {
      "cell_type": "markdown",
      "metadata": {
        "id": "3Q-yHHoq0qoi"
      },
      "source": [
        "Exercise 13- OOP\n",
        "\n",
        "a)Class variables and instance variables and illsustration of the self variable\n",
        "\n",
        "1)Robot"
      ]
    },
    {
      "cell_type": "code",
      "metadata": {
        "colab": {
          "base_uri": "https://localhost:8080/"
        },
        "id": "gAZjnr430xXe",
        "outputId": "61f0afbe-0494-476a-8a96-a85ea6f3e828"
      },
      "source": [
        "class Robot:\n",
        "    what=\"Machine\"\n",
        "    name=\"dolly\"\n",
        "    version=1.0\n",
        "    speed=\"1THz\"\n",
        "    memory=\"1ZB\"\n",
        " \n",
        "    def update(upd):\n",
        "        upd.version=2.0\n",
        "        upd.speed=\"2THz\"\n",
        "        upd.memory=\"2ZB\"\n",
        " \n",
        "    def disp(self):\n",
        "        print(\"Myself is a\",robj.what)\n",
        "        print(\"MyName is a\",robj.name)\n",
        "        print(\"Version :\",robj.version)\n",
        "        print(\"Speed : \",robj.speed)\n",
        "        print(\"Memory: \",robj.memory)\n",
        " \n",
        "robj=Robot()\n",
        "robj.disp()\n",
        " \n",
        "print(\"---------------Update---------\")\n",
        "robj.update()\n",
        "robj.disp()"
      ],
      "execution_count": null,
      "outputs": [
        {
          "output_type": "stream",
          "text": [
            "Myself is a Machine\n",
            "MyName is a dolly\n",
            "Version : 1.0\n",
            "Speed :  1THz\n",
            "Memory:  1ZB\n",
            "---------------Update---------\n",
            "Myself is a Machine\n",
            "MyName is a dolly\n",
            "Version : 2.0\n",
            "Speed :  2THz\n",
            "Memory:  2ZB\n"
          ],
          "name": "stdout"
        }
      ]
    },
    {
      "cell_type": "markdown",
      "metadata": {
        "id": "WG9V3yx01DDw"
      },
      "source": [
        "2)ATM Machine"
      ]
    },
    {
      "cell_type": "code",
      "metadata": {
        "colab": {
          "base_uri": "https://localhost:8080/"
        },
        "id": "G_ZLUck81H8r",
        "outputId": "097e2587-9c95-44b7-c4bc-666ea9153303"
      },
      "source": [
        "class ATM:\n",
        "    def __init__(self):\n",
        "        self.balance=0\n",
        "        print(\"New Account\")\n",
        "        \n",
        "    def enquire(self):\n",
        "        print(\"Balance: \",self.balance)\n",
        "        \n",
        "    def deposit(self):\n",
        "        amount=int(input(\"Enter the Deposit Amount:\"))\n",
        "        self.balance+=amount\n",
        "        self.enquire()\n",
        " \n",
        "    def withdraw(self):\n",
        "        amount=int(input(\"Enter the Withdraw Amount: \"))\n",
        "        if self.balance<amount:\n",
        "            print(\"Insufficient Balance.....!\")\n",
        "        else:\n",
        "            self.balance-=amount\n",
        "            self.enquire()\n",
        " \n",
        "aobj=ATM()\n",
        "while(True):\n",
        "    print(\"*****Menu****\")\n",
        "    print(\"1.Deposit\")\n",
        "    print(\"2.Withdarw\")\n",
        "    print(\"3.Balance\")\n",
        "    print(\"0.Exit\")\n",
        "    ch=int(input(\"Enter Your Choice: \"))\n",
        "    if ch==0:\n",
        "        break\n",
        "    elif ch==1:\n",
        "        aobj.deposit()\n",
        "    elif ch==2:\n",
        "        aobj.withdraw()\n",
        "    elif ch==3:\n",
        "        aobj.enquire()\n",
        "    else:\n",
        "        print(\"Invalid choice:\")\n",
        "        pass"
      ],
      "execution_count": null,
      "outputs": [
        {
          "output_type": "stream",
          "text": [
            "New Account\n",
            "*****Menu****\n",
            "1.Deposit\n",
            "2.Withdarw\n",
            "3.Balance\n",
            "0.Exit\n",
            "Enter Your Choice: 1\n",
            "Enter the Deposit Amount:10000\n",
            "Balance:  10000\n",
            "*****Menu****\n",
            "1.Deposit\n",
            "2.Withdarw\n",
            "3.Balance\n",
            "0.Exit\n",
            "Enter Your Choice: 2\n",
            "Enter the Withdraw Amount: 5000\n",
            "Balance:  5000\n",
            "*****Menu****\n",
            "1.Deposit\n",
            "2.Withdarw\n",
            "3.Balance\n",
            "0.Exit\n",
            "Enter Your Choice: 3\n",
            "Balance:  5000\n",
            "*****Menu****\n",
            "1.Deposit\n",
            "2.Withdarw\n",
            "3.Balance\n",
            "0.Exit\n",
            "Enter Your Choice: 0\n"
          ],
          "name": "stdout"
        }
      ]
    },
    {
      "cell_type": "markdown",
      "metadata": {
        "id": "8VrSfg9f1e_I"
      },
      "source": [
        "Exercise14:GUI,Graphics\n",
        "\n",
        "1.Write a GUI for an Expression Calculator using tk.\n",
        "\n",
        "2.Write a program to implement the following figures using turtle"
      ]
    },
    {
      "cell_type": "code",
      "metadata": {
        "id": "QX0qD5ZN1oDw"
      },
      "source": [
        "import turtle\n",
        "c=[\"red\",\"green\",\"blue\"]\n",
        "i=0\n",
        "turtle.pensize(5)\n",
        " \n",
        "for angle in range(0,360,30):\n",
        "    if i>2:\n",
        "        i=0\n",
        "    turtle.color(c[i])\n",
        "    turtle.seth(angle)\n",
        "    turtle.circle(50)\n",
        "    i+=1"
      ],
      "execution_count": null,
      "outputs": []
    },
    {
      "cell_type": "code",
      "metadata": {
        "id": "zVy6qh5X1sn5"
      },
      "source": [
        "import turtle\n",
        "turtle.pensize(1)\n",
        " \n",
        "for i in range(36):\n",
        "    for j in range(4):\n",
        "        turtle.forward(70)\n",
        "        turtle.left(90)\n",
        "    turtle.left(10)"
      ],
      "execution_count": null,
      "outputs": []
    },
    {
      "cell_type": "markdown",
      "metadata": {
        "id": "99Qsd-KU1wc0"
      },
      "source": [
        "Exercise 15: Testing\n",
        "\n",
        "a)Write a test case to check the function even numbers which return true on passing a list of all even numbers.\n",
        "\n",
        "b) Write a test-case to check the function reverse string which returns the reversed string"
      ]
    },
    {
      "cell_type": "code",
      "metadata": {
        "colab": {
          "base_uri": "https://localhost:8080/"
        },
        "id": "I6Rb0RQ811AR",
        "outputId": "abe3fd84-f5d1-446f-d35e-5378113f07f3"
      },
      "source": [
        "def evnNo(num):\n",
        "    stat=True\n",
        " \n",
        "    for i in num:\n",
        "        if i%2 ==1:\n",
        "            stat=False\n",
        "            break\n",
        "    return stat\n",
        "        \n",
        "numbers=[]\n",
        "for i in range(0,2):\n",
        "    numbers.append(int(input(\"Enter a value\")))\n",
        "print(evnNo(numbers))"
      ],
      "execution_count": null,
      "outputs": [
        {
          "output_type": "stream",
          "text": [
            "Enter a value2\n",
            "Enter a value4\n",
            "True\n"
          ],
          "name": "stdout"
        }
      ]
    },
    {
      "cell_type": "code",
      "metadata": {
        "id": "ciJBqilL2FfL",
        "colab": {
          "base_uri": "https://localhost:8080/"
        },
        "outputId": "5f7e0186-091e-491b-de43-3f2758f6af1c"
      },
      "source": [
        "def rev_str(st):\n",
        "    return st[::-1]\n",
        " \n",
        "st=\"babysatya\"\n",
        "print(\"Given String is: \",st)\n",
        " \n",
        "print(\"Reverse is: \",rev_str(st))"
      ],
      "execution_count": null,
      "outputs": [
        {
          "output_type": "stream",
          "text": [
            "Given String is:  babysatya\n",
            "Reverse is:  aytasybab\n"
          ],
          "name": "stdout"
        }
      ]
    }
  ]
}